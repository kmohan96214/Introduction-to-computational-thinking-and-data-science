{
 "cells": [
  {
   "cell_type": "markdown",
   "metadata": {},
   "source": [
    "# Exercise 3\n",
    "\n",
    "## Exercise 3\n",
    "\n",
    "5.0/5.0 points (graded)\n",
    "\n",
    "Write a function, <code>stdDevOfLengths(L)</code> that takes in a list of strings, <code>L</code>, and outputs the standard deviation of the lengths of the strings. Return <code>float('NaN')</code> if <code>L</code> is empty.\n",
    "\n",
    "Recall that the standard deviation is computed by this equation:\n",
    "\n",
    "$$\\sqrt{\\frac{\\sum_{t\\text{ in }X} (t - \\mu)^2}{N}}$$\n",
    "\n",
    "where:\n",
    "\n",
    "- _μ_ is the mean of the elements in _X_.\n",
    "\n",
    "- $\\sum_{t\\text{ in }X} (t - \\mu)^2$ means the sum of the quantity $(t - \\mu)^2$ for _t_ in _X_.\n",
    "\n",
    "That is, for each element (that we name _t_) in the set _X_, we compute the quantity $(t - \\mu)^2$. We then sum up all those computed quantities.\n",
    "\n",
    "- _N_ is the number of elements in _X_.\n",
    "\n",
    "  1. Test case: If <code>L = ['a', 'z', 'p']</code>, <code>stdDevOfLengths(L)</code> should return 0.\n",
    "\n",
    "  2. Test case: If <code>L = ['apples', 'oranges', 'kiwis', 'pineapples']</code>, <code>stdDevOfLengths(L)</code> should return 1.8708.\n",
    "\n",
    "If you want to use numpy arrays, you should <code>import numpy as np<code> and use <code>np.METHOD_NAME</code> in your code."
   ]
  },
  {
   "cell_type": "code",
   "execution_count": 1,
   "metadata": {
    "collapsed": true
   },
   "outputs": [],
   "source": [
    "def stdDevOfLengths(L):\n",
    "    \"\"\"\n",
    "    L: a list of strings\n",
    "\n",
    "    returns: float, the standard deviation of the lengths of the strings,\n",
    "      or NaN if L is empty.\n",
    "    \"\"\"\n",
    "    import numpy as np\n",
    "    if len(L) == 0:\n",
    "        return float('NaN')\n",
    "    else:\n",
    "        return np.std([i for i in map(len, L)])"
   ]
  },
  {
   "cell_type": "markdown",
   "metadata": {},
   "source": [
    "correctCorrect"
   ]
  }
 ],
 "metadata": {
  "anaconda-cloud": {},
  "kernelspec": {
   "display_name": "Python [conda env:python3]",
   "language": "python",
   "name": "conda-env-python3-py"
  },
  "language_info": {
   "codemirror_mode": {
    "name": "ipython",
    "version": 3
   },
   "file_extension": ".py",
   "mimetype": "text/x-python",
   "name": "python",
   "nbconvert_exporter": "python",
   "pygments_lexer": "ipython3",
   "version": "3.5.2"
  }
 },
 "nbformat": 4,
 "nbformat_minor": 0
}
